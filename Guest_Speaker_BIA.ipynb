{
 "cells": [
  {
   "cell_type": "markdown",
   "id": "71fdc036",
   "metadata": {},
   "source": [
    "## Agenda\n",
    "1. Welcome and Introduction\n",
    "2. Introduction to Pandas\n",
    "3. Setting Up Pandas\n",
    "4. Core Data Structures\n",
    "5. Data Cleaning and Preparation\n",
    "6. Introduction to Data Visualization\n",
    "7. Hands-On Exercise\n",
    "8. Q&A and Wrap-Up"
   ]
  },
  {
   "cell_type": "markdown",
   "id": "4169ce7e",
   "metadata": {},
   "source": [
    "## Setting up Pandas "
   ]
  },
  {
   "cell_type": "markdown",
   "id": "143ef7cd",
   "metadata": {},
   "source": [
    "Step 1: Confirm that Python is installed on your system. If not, you can download it from the official Python website (python.org).\n",
    "\n",
    "Step 2: Open your Jupyter Notebook.\n",
    "\n",
    "Step 3: Create a new Python notebook.\n",
    "\n",
    "Step 4: Type \"!pip install pandas\" in a cell and run it.\n",
    "\n",
    "Step 5: Verify by running \"pip show pandas\" in the Jupyter Notebook cell."
   ]
  },
  {
   "cell_type": "code",
   "execution_count": 2,
   "id": "117fe042",
   "metadata": {},
   "outputs": [],
   "source": [
    "#!pip install pandas"
   ]
  },
  {
   "cell_type": "code",
   "execution_count": 3,
   "id": "0095d327",
   "metadata": {},
   "outputs": [],
   "source": [
    "#pip show pandas"
   ]
  },
  {
   "cell_type": "code",
   "execution_count": 4,
   "id": "e0105340",
   "metadata": {},
   "outputs": [],
   "source": [
    "import pandas as pd\n",
    "import numpy as np"
   ]
  },
  {
   "cell_type": "markdown",
   "id": "175dcb24",
   "metadata": {},
   "source": [
    "# Data Structure in Pandas \n",
    "- Series\n",
    "- Data Frames"
   ]
  },
  {
   "cell_type": "markdown",
   "id": "13ceb78a",
   "metadata": {},
   "source": [
    "Series: A Series is a one-dimensional array-like object that can hold data of any type (integers, strings, floating-point numbers, etc.). It is similar to a single column of a DataFrame and has an associated array of labels, called its index.\n"
   ]
  },
  {
   "cell_type": "code",
   "execution_count": 5,
   "id": "8f142748",
   "metadata": {},
   "outputs": [
    {
     "name": "stdout",
     "output_type": "stream",
     "text": [
      "Series:\n",
      "a    1\n",
      "b    2\n",
      "c    3\n",
      "d    4\n",
      "dtype: int64\n"
     ]
    }
   ],
   "source": [
    "# Creating a Series\n",
    "data_series = pd.Series([1, 2, 3, 4], index=['a', 'b', 'c', 'd'])\n",
    "print(\"Series:\")\n",
    "print(data_series)"
   ]
  },
  {
   "cell_type": "code",
   "execution_count": 6,
   "id": "f24ed4b2",
   "metadata": {},
   "outputs": [
    {
     "ename": "ValueError",
     "evalue": "Length of values (4) does not match length of index (3)",
     "output_type": "error",
     "traceback": [
      "\u001b[1;31m---------------------------------------------------------------------------\u001b[0m",
      "\u001b[1;31mValueError\u001b[0m                                Traceback (most recent call last)",
      "Cell \u001b[1;32mIn[6], line 2\u001b[0m\n\u001b[0;32m      1\u001b[0m \u001b[38;5;66;03m#seeing the difference when we delete an index\u001b[39;00m\n\u001b[1;32m----> 2\u001b[0m data_series \u001b[38;5;241m=\u001b[39m pd\u001b[38;5;241m.\u001b[39mSeries([\u001b[38;5;241m1\u001b[39m,\u001b[38;5;241m2\u001b[39m,\u001b[38;5;241m3\u001b[39m,\u001b[38;5;241m4\u001b[39m], index\u001b[38;5;241m=\u001b[39m [\u001b[38;5;124m'\u001b[39m\u001b[38;5;124ma\u001b[39m\u001b[38;5;124m'\u001b[39m,\u001b[38;5;124m'\u001b[39m\u001b[38;5;124mb\u001b[39m\u001b[38;5;124m'\u001b[39m,\u001b[38;5;124m'\u001b[39m\u001b[38;5;124mc\u001b[39m\u001b[38;5;124m'\u001b[39m])\n\u001b[0;32m      3\u001b[0m \u001b[38;5;28mprint\u001b[39m(\u001b[38;5;124m\"\u001b[39m\u001b[38;5;124mSeries:\u001b[39m\u001b[38;5;124m\"\u001b[39m)\n\u001b[0;32m      4\u001b[0m \u001b[38;5;28mprint\u001b[39m(data_series)\n",
      "File \u001b[1;32m~\\anaconda3\\Lib\\site-packages\\pandas\\core\\series.py:461\u001b[0m, in \u001b[0;36mSeries.__init__\u001b[1;34m(self, data, index, dtype, name, copy, fastpath)\u001b[0m\n\u001b[0;32m    459\u001b[0m     index \u001b[38;5;241m=\u001b[39m default_index(\u001b[38;5;28mlen\u001b[39m(data))\n\u001b[0;32m    460\u001b[0m \u001b[38;5;28;01melif\u001b[39;00m is_list_like(data):\n\u001b[1;32m--> 461\u001b[0m     com\u001b[38;5;241m.\u001b[39mrequire_length_match(data, index)\n\u001b[0;32m    463\u001b[0m \u001b[38;5;66;03m# create/copy the manager\u001b[39;00m\n\u001b[0;32m    464\u001b[0m \u001b[38;5;28;01mif\u001b[39;00m \u001b[38;5;28misinstance\u001b[39m(data, (SingleBlockManager, SingleArrayManager)):\n",
      "File \u001b[1;32m~\\anaconda3\\Lib\\site-packages\\pandas\\core\\common.py:571\u001b[0m, in \u001b[0;36mrequire_length_match\u001b[1;34m(data, index)\u001b[0m\n\u001b[0;32m    567\u001b[0m \u001b[38;5;250m\u001b[39m\u001b[38;5;124;03m\"\"\"\u001b[39;00m\n\u001b[0;32m    568\u001b[0m \u001b[38;5;124;03mCheck the length of data matches the length of the index.\u001b[39;00m\n\u001b[0;32m    569\u001b[0m \u001b[38;5;124;03m\"\"\"\u001b[39;00m\n\u001b[0;32m    570\u001b[0m \u001b[38;5;28;01mif\u001b[39;00m \u001b[38;5;28mlen\u001b[39m(data) \u001b[38;5;241m!=\u001b[39m \u001b[38;5;28mlen\u001b[39m(index):\n\u001b[1;32m--> 571\u001b[0m     \u001b[38;5;28;01mraise\u001b[39;00m \u001b[38;5;167;01mValueError\u001b[39;00m(\n\u001b[0;32m    572\u001b[0m         \u001b[38;5;124m\"\u001b[39m\u001b[38;5;124mLength of values \u001b[39m\u001b[38;5;124m\"\u001b[39m\n\u001b[0;32m    573\u001b[0m         \u001b[38;5;124mf\u001b[39m\u001b[38;5;124m\"\u001b[39m\u001b[38;5;124m(\u001b[39m\u001b[38;5;132;01m{\u001b[39;00m\u001b[38;5;28mlen\u001b[39m(data)\u001b[38;5;132;01m}\u001b[39;00m\u001b[38;5;124m) \u001b[39m\u001b[38;5;124m\"\u001b[39m\n\u001b[0;32m    574\u001b[0m         \u001b[38;5;124m\"\u001b[39m\u001b[38;5;124mdoes not match length of index \u001b[39m\u001b[38;5;124m\"\u001b[39m\n\u001b[0;32m    575\u001b[0m         \u001b[38;5;124mf\u001b[39m\u001b[38;5;124m\"\u001b[39m\u001b[38;5;124m(\u001b[39m\u001b[38;5;132;01m{\u001b[39;00m\u001b[38;5;28mlen\u001b[39m(index)\u001b[38;5;132;01m}\u001b[39;00m\u001b[38;5;124m)\u001b[39m\u001b[38;5;124m\"\u001b[39m\n\u001b[0;32m    576\u001b[0m     )\n",
      "\u001b[1;31mValueError\u001b[0m: Length of values (4) does not match length of index (3)"
     ]
    }
   ],
   "source": [
    "#seeing the difference when we delete an index\n",
    "data_series = pd.Series([1,2,3,4], index= ['a','b','c'])\n",
    "print(\"Series:\")\n",
    "print(data_series)"
   ]
  },
  {
   "cell_type": "code",
   "execution_count": 7,
   "id": "f5544891",
   "metadata": {},
   "outputs": [
    {
     "data": {
      "text/plain": [
       "b    1\n",
       "a    0\n",
       "c    2\n",
       "dtype: int64"
      ]
     },
     "execution_count": 7,
     "metadata": {},
     "output_type": "execute_result"
    }
   ],
   "source": [
    "d = {\"b\": 1, \"a\": 0, \"c\": 2}\n",
    "\n",
    "pd.Series(d)"
   ]
  },
  {
   "cell_type": "markdown",
   "id": "87d6e4d3",
   "metadata": {},
   "source": [
    "A Data Frame is a 2-dimensional labeled data structure with columns of potentially different types. You can think of it like a spreadsheet or SQL table, or a dict of Series objects. (Source: pandas.pydata.org)"
   ]
  },
  {
   "cell_type": "code",
   "execution_count": 8,
   "id": "0fa2a980",
   "metadata": {},
   "outputs": [
    {
     "name": "stdout",
     "output_type": "stream",
     "text": [
      "{'Name': ['Julia', 'Kelly', 'George', 'Pablo'], 'College': ['BU', 'UVA', 'UNC', 'MIT'], 'Physics_grades': [99, 76, 71, 93], 'Chemistry_grades': [97, 67, 65, 89], 'Data Science_grades': [93, 65, 65, 85]}\n"
     ]
    }
   ],
   "source": [
    "# dictionary with list object in values ie college details \n",
    "details = { \n",
    "    'Name': ['Julia', 'Kelly', 'George', 'Pablo'], \n",
    "    'College': ['BU', 'UVA', 'UNC', 'MIT'], \n",
    "    'Physics_grades': [99, 76, 71, 93], \n",
    "    'Chemistry_grades': [97, 67, 65, 89], \n",
    "    'Data Science_grades': [93, 65, 65, 85] \n",
    "} \n",
    "\n",
    "print(details)\n"
   ]
  },
  {
   "cell_type": "code",
   "execution_count": 9,
   "id": "303a3310",
   "metadata": {},
   "outputs": [
    {
     "data": {
      "text/html": [
       "<div>\n",
       "<style scoped>\n",
       "    .dataframe tbody tr th:only-of-type {\n",
       "        vertical-align: middle;\n",
       "    }\n",
       "\n",
       "    .dataframe tbody tr th {\n",
       "        vertical-align: top;\n",
       "    }\n",
       "\n",
       "    .dataframe thead th {\n",
       "        text-align: right;\n",
       "    }\n",
       "</style>\n",
       "<table border=\"1\" class=\"dataframe\">\n",
       "  <thead>\n",
       "    <tr style=\"text-align: right;\">\n",
       "      <th></th>\n",
       "      <th>Name</th>\n",
       "      <th>College</th>\n",
       "      <th>Physics_grades</th>\n",
       "      <th>Chemistry_grades</th>\n",
       "      <th>Data Science_grades</th>\n",
       "    </tr>\n",
       "  </thead>\n",
       "  <tbody>\n",
       "    <tr>\n",
       "      <th>0</th>\n",
       "      <td>Julia</td>\n",
       "      <td>BU</td>\n",
       "      <td>99</td>\n",
       "      <td>97</td>\n",
       "      <td>93</td>\n",
       "    </tr>\n",
       "    <tr>\n",
       "      <th>1</th>\n",
       "      <td>Kelly</td>\n",
       "      <td>UVA</td>\n",
       "      <td>76</td>\n",
       "      <td>67</td>\n",
       "      <td>65</td>\n",
       "    </tr>\n",
       "    <tr>\n",
       "      <th>2</th>\n",
       "      <td>George</td>\n",
       "      <td>UNC</td>\n",
       "      <td>71</td>\n",
       "      <td>65</td>\n",
       "      <td>65</td>\n",
       "    </tr>\n",
       "    <tr>\n",
       "      <th>3</th>\n",
       "      <td>Pablo</td>\n",
       "      <td>MIT</td>\n",
       "      <td>93</td>\n",
       "      <td>89</td>\n",
       "      <td>85</td>\n",
       "    </tr>\n",
       "  </tbody>\n",
       "</table>\n",
       "</div>"
      ],
      "text/plain": [
       "     Name College  Physics_grades  Chemistry_grades  Data Science_grades\n",
       "0   Julia      BU              99                97                   93\n",
       "1   Kelly     UVA              76                67                   65\n",
       "2  George     UNC              71                65                   65\n",
       "3   Pablo     MIT              93                89                   85"
      ]
     },
     "execution_count": 9,
     "metadata": {},
     "output_type": "execute_result"
    }
   ],
   "source": [
    "# converting to dataframe using DataFrame() \n",
    "df = pd.DataFrame(details) \n",
    "\n",
    "# print data frame \n",
    "df"
   ]
  },
  {
   "cell_type": "markdown",
   "id": "9b7db88c",
   "metadata": {},
   "source": [
    "# Loading files with Pandas"
   ]
  },
  {
   "cell_type": "markdown",
   "id": "33b0dea5",
   "metadata": {},
   "source": [
    "Functions to use with different file types:\n",
    "   - df = pd.read_csv(\"dataset_Name.csv\", index_col= 0) (Most Common)\n",
    "   - df = pd.read_excel('data.xlsx', index_col=0) \n",
    "   - df = pd.read_json('data-index.json', orient='index') (Most Common)\n",
    "   - df = pd.read_html('data.html', index_col=0)\n",
    "   - df = pd.read_sql('data.db', con=engine, index_col='ID')\n",
    "   - df = pd.read_pickle('data.pickle')\n",
    "\n"
   ]
  },
  {
   "cell_type": "markdown",
   "id": "73edd0fd",
   "metadata": {},
   "source": [
    "# Data Exploration\n",
    "\n",
    "- Let's look at this used cars dataset from Carvana\n"
   ]
  },
  {
   "cell_type": "markdown",
   "id": "b9052214",
   "metadata": {},
   "source": [
    "Field Name:\t\t\t\tDefinition\n",
    "\n",
    "RefID:\t\t\t\t    Unique (sequential) number assigned to vehicles\n",
    "\n",
    "IsBadBuy:\t\t\t\tIdentifies if the kicked vehicle was an avoidable purchase \n",
    "\n",
    "PurchDate:\t\t\t\tThe Date the vehicle was Purchased at Auction\n",
    "\n",
    "Auction:\t\t\t\t\tAuction provider at which the  vehicle was purchased\n",
    "\n",
    "VehYear:\t\t\t\t\tThe manufacturer's year of the vehicle\n",
    "\n",
    "VehicleAge:\t\t\t\tThe Years elapsed since the manufacturer's year\n",
    "\n",
    "Make:\t\t\t\t\tVehicle Manufacturer \n",
    "\n",
    "Model:\t\t\t\t\tVehicle Model\n",
    "\n",
    "Trim:\t\t\t\t\tVehicle Trim Level\n",
    "\n",
    "SubModel:\t\t\t\tVehicle Submodel\n",
    "\n",
    "Color:\t\t\t\t\tVehicle Color\n",
    "\n",
    "Transmission:\t\t    Vehicles transmission type (Automatic, Manual)\n",
    "\n",
    "WheelTypeID\t:\t\t\tThe type id of the vehicle wheel\n",
    "\n",
    "WheelType\t:\t\t\tThe vehicle wheel type description (Alloy, Covers)\n",
    "\n",
    "VehOdo\t:\t\t\t\tThe vehicles odometer reading\n",
    "\n",
    "Nationality:\t\t\t\tThe Manufacturer's country\n",
    "\n",
    "Size:\t\t\t\t\tThe size category of the vehicle (Compact, SUV, etc.)\n",
    "\n",
    "TopThreeAmericanName:\t\t\tIdentifies if the manufacturer is one of the top three American manufacturers\n",
    "\n",
    "MMRAcquisitionAuctionAveragePrice:\tAcquisition price for this vehicle in average condition at time of purchase\t\n",
    "\n",
    "MMRAcquisitionAuctionCleanPrice:\t\tAcquisition price for this vehicle in the above Average condition at time of purchase\n",
    "\n",
    "MMRAcquisitionRetailAveragePrice:\tAcquisition price for this vehicle in the retail market in average condition at time of purchase\n",
    "\n",
    "MMRAcquisitonRetailCleanPrice:\t\tAcquisition price for this vehicle in the retail market in above average condition at time of purchase\n",
    "\n",
    "MMRCurrentAuctionAveragePrice:\t\tAcquisition price for this vehicle in average condition as of current day\n",
    "\n",
    "MMRCurrentAuctionCleanPrice:\t\tAcquisition price for this vehicle in the above condition as of current day\n",
    "\n",
    "MMRCurrentRetailAveragePrice:\t\tAcquisition price for this vehicle in the retail market in average condition as of current day\n",
    "\n",
    "MMRCurrentRetailCleanPrice:\t\tAcquisition price for this vehicle in the retail market in above average condition as of current day\n",
    "\n",
    "PRIMEUNIT:\t\t\t\tIdentifies if the vehicle would have a higher demand than a standard purchase\n",
    "\n",
    "AcquisitionType:\t\t\t\tIdentifies how the vehicle was aquired (Auction buy, trade in, etc)\n",
    "\n",
    "AUCGUART:\t\t\t\tThe level guarntee provided by auction for the vehicle (Green light - Guaranteed/arbitratable, Yellow Light - caution/issue, red light - sold as is)\n",
    "\n",
    "KickDate:\t\t\t\tDate the vehicle was kicked back to the auction\n",
    "\n",
    "BYRNO:\t\t\t\t\tUnique number assigned to the buyer that purchased the vehicle\n",
    "\n",
    "VNZIP:                                   Zipcode where the car was purchased\n",
    "\n",
    "VNST:                                    State where the the car was purchased\n",
    "\n",
    "VehBCost:\t\t\t\tAcquisition cost paid for the vehicle at time of purchase\n",
    "\n",
    "IsOnlineSale:\t\t\t\tIdentifies if the vehicle was originally purchased online\n",
    "\n",
    "WarrantyCost:                            Warranty price (term=36month  and millage=36K) \n",
    "\n"
   ]
  },
  {
   "cell_type": "code",
   "execution_count": 10,
   "id": "2aa8f752",
   "metadata": {
    "scrolled": true
   },
   "outputs": [
    {
     "data": {
      "text/html": [
       "<div>\n",
       "<style scoped>\n",
       "    .dataframe tbody tr th:only-of-type {\n",
       "        vertical-align: middle;\n",
       "    }\n",
       "\n",
       "    .dataframe tbody tr th {\n",
       "        vertical-align: top;\n",
       "    }\n",
       "\n",
       "    .dataframe thead th {\n",
       "        text-align: right;\n",
       "    }\n",
       "</style>\n",
       "<table border=\"1\" class=\"dataframe\">\n",
       "  <thead>\n",
       "    <tr style=\"text-align: right;\">\n",
       "      <th></th>\n",
       "      <th>IsBadBuy</th>\n",
       "      <th>PurchDate</th>\n",
       "      <th>Auction</th>\n",
       "      <th>VehYear</th>\n",
       "      <th>VehicleAge</th>\n",
       "      <th>Make</th>\n",
       "      <th>Model</th>\n",
       "      <th>Trim</th>\n",
       "      <th>SubModel</th>\n",
       "      <th>Color</th>\n",
       "      <th>...</th>\n",
       "      <th>TopThree AmericanName</th>\n",
       "      <th>MMR Current AvgPrice</th>\n",
       "      <th>PRIMEUNIT</th>\n",
       "      <th>AUCGUART</th>\n",
       "      <th>BYRNO</th>\n",
       "      <th>VNZIP1</th>\n",
       "      <th>VNST</th>\n",
       "      <th>VehBCost</th>\n",
       "      <th>IsOnlineSale</th>\n",
       "      <th>WarrantyCost</th>\n",
       "    </tr>\n",
       "    <tr>\n",
       "      <th>RefId</th>\n",
       "      <th></th>\n",
       "      <th></th>\n",
       "      <th></th>\n",
       "      <th></th>\n",
       "      <th></th>\n",
       "      <th></th>\n",
       "      <th></th>\n",
       "      <th></th>\n",
       "      <th></th>\n",
       "      <th></th>\n",
       "      <th></th>\n",
       "      <th></th>\n",
       "      <th></th>\n",
       "      <th></th>\n",
       "      <th></th>\n",
       "      <th></th>\n",
       "      <th></th>\n",
       "      <th></th>\n",
       "      <th></th>\n",
       "      <th></th>\n",
       "      <th></th>\n",
       "    </tr>\n",
       "  </thead>\n",
       "  <tbody>\n",
       "    <tr>\n",
       "      <th>8</th>\n",
       "      <td>0</td>\n",
       "      <td>12/7/2009</td>\n",
       "      <td>ADESA</td>\n",
       "      <td>2005</td>\n",
       "      <td>4</td>\n",
       "      <td>FORD</td>\n",
       "      <td>TAURUS</td>\n",
       "      <td>SE</td>\n",
       "      <td>4D SEDAN SE</td>\n",
       "      <td>WHITE</td>\n",
       "      <td>...</td>\n",
       "      <td>FORD</td>\n",
       "      <td>3713.0</td>\n",
       "      <td>NaN</td>\n",
       "      <td>NaN</td>\n",
       "      <td>19638</td>\n",
       "      <td>33619</td>\n",
       "      <td>FL</td>\n",
       "      <td>4500.0</td>\n",
       "      <td>0</td>\n",
       "      <td>825</td>\n",
       "    </tr>\n",
       "    <tr>\n",
       "      <th>16</th>\n",
       "      <td>0</td>\n",
       "      <td>12/14/2009</td>\n",
       "      <td>ADESA</td>\n",
       "      <td>2003</td>\n",
       "      <td>6</td>\n",
       "      <td>CHEVROLET</td>\n",
       "      <td>CAVALIER 4C</td>\n",
       "      <td>Bas</td>\n",
       "      <td>2D COUPE</td>\n",
       "      <td>WHITE</td>\n",
       "      <td>...</td>\n",
       "      <td>GM</td>\n",
       "      <td>2128.0</td>\n",
       "      <td>NaN</td>\n",
       "      <td>NaN</td>\n",
       "      <td>5546</td>\n",
       "      <td>33619</td>\n",
       "      <td>FL</td>\n",
       "      <td>3300.0</td>\n",
       "      <td>0</td>\n",
       "      <td>1455</td>\n",
       "    </tr>\n",
       "    <tr>\n",
       "      <th>19</th>\n",
       "      <td>0</td>\n",
       "      <td>12/14/2009</td>\n",
       "      <td>ADESA</td>\n",
       "      <td>2005</td>\n",
       "      <td>4</td>\n",
       "      <td>CHEVROLET</td>\n",
       "      <td>IMPALA</td>\n",
       "      <td>Bas</td>\n",
       "      <td>4D SEDAN</td>\n",
       "      <td>GREY</td>\n",
       "      <td>...</td>\n",
       "      <td>GM</td>\n",
       "      <td>4107.0</td>\n",
       "      <td>NaN</td>\n",
       "      <td>NaN</td>\n",
       "      <td>19638</td>\n",
       "      <td>33619</td>\n",
       "      <td>FL</td>\n",
       "      <td>5700.0</td>\n",
       "      <td>0</td>\n",
       "      <td>1703</td>\n",
       "    </tr>\n",
       "    <tr>\n",
       "      <th>23</th>\n",
       "      <td>0</td>\n",
       "      <td>12/21/2009</td>\n",
       "      <td>ADESA</td>\n",
       "      <td>2004</td>\n",
       "      <td>5</td>\n",
       "      <td>CHEVROLET</td>\n",
       "      <td>VENTURE FWD V6</td>\n",
       "      <td>LS</td>\n",
       "      <td>PASSENGER 3.4L</td>\n",
       "      <td>SILVER</td>\n",
       "      <td>...</td>\n",
       "      <td>GM</td>\n",
       "      <td>2446.0</td>\n",
       "      <td>NaN</td>\n",
       "      <td>NaN</td>\n",
       "      <td>5546</td>\n",
       "      <td>33619</td>\n",
       "      <td>FL</td>\n",
       "      <td>4100.0</td>\n",
       "      <td>0</td>\n",
       "      <td>5613</td>\n",
       "    </tr>\n",
       "    <tr>\n",
       "      <th>42</th>\n",
       "      <td>1</td>\n",
       "      <td>1/4/2010</td>\n",
       "      <td>ADESA</td>\n",
       "      <td>2005</td>\n",
       "      <td>5</td>\n",
       "      <td>NISSAN</td>\n",
       "      <td>SENTRA</td>\n",
       "      <td>Bas</td>\n",
       "      <td>4D SEDAN 1.8</td>\n",
       "      <td>SILVER</td>\n",
       "      <td>...</td>\n",
       "      <td>OTHER</td>\n",
       "      <td>4522.0</td>\n",
       "      <td>NaN</td>\n",
       "      <td>NaN</td>\n",
       "      <td>19638</td>\n",
       "      <td>33619</td>\n",
       "      <td>FL</td>\n",
       "      <td>5200.0</td>\n",
       "      <td>0</td>\n",
       "      <td>594</td>\n",
       "    </tr>\n",
       "  </tbody>\n",
       "</table>\n",
       "<p>5 rows × 26 columns</p>\n",
       "</div>"
      ],
      "text/plain": [
       "       IsBadBuy   PurchDate Auction  VehYear  VehicleAge       Make  \\\n",
       "RefId                                                                 \n",
       "8             0   12/7/2009   ADESA     2005           4       FORD   \n",
       "16            0  12/14/2009   ADESA     2003           6  CHEVROLET   \n",
       "19            0  12/14/2009   ADESA     2005           4  CHEVROLET   \n",
       "23            0  12/21/2009   ADESA     2004           5  CHEVROLET   \n",
       "42            1    1/4/2010   ADESA     2005           5     NISSAN   \n",
       "\n",
       "                Model Trim        SubModel   Color  ... TopThree AmericanName  \\\n",
       "RefId                                               ...                         \n",
       "8              TAURUS   SE     4D SEDAN SE   WHITE  ...                  FORD   \n",
       "16        CAVALIER 4C  Bas        2D COUPE   WHITE  ...                    GM   \n",
       "19             IMPALA  Bas        4D SEDAN    GREY  ...                    GM   \n",
       "23     VENTURE FWD V6   LS  PASSENGER 3.4L  SILVER  ...                    GM   \n",
       "42             SENTRA  Bas    4D SEDAN 1.8  SILVER  ...                 OTHER   \n",
       "\n",
       "       MMR Current AvgPrice PRIMEUNIT  AUCGUART  BYRNO VNZIP1 VNST  VehBCost  \\\n",
       "RefId                                                                          \n",
       "8                    3713.0       NaN       NaN  19638  33619   FL    4500.0   \n",
       "16                   2128.0       NaN       NaN   5546  33619   FL    3300.0   \n",
       "19                   4107.0       NaN       NaN  19638  33619   FL    5700.0   \n",
       "23                   2446.0       NaN       NaN   5546  33619   FL    4100.0   \n",
       "42                   4522.0       NaN       NaN  19638  33619   FL    5200.0   \n",
       "\n",
       "      IsOnlineSale WarrantyCost  \n",
       "RefId                            \n",
       "8                0          825  \n",
       "16               0         1455  \n",
       "19               0         1703  \n",
       "23               0         5613  \n",
       "42               0          594  \n",
       "\n",
       "[5 rows x 26 columns]"
      ]
     },
     "execution_count": 10,
     "metadata": {},
     "output_type": "execute_result"
    }
   ],
   "source": [
    "#loading CSV file\n",
    "df = pd.read_csv(\"used_car_auction.csv\", index_col=0)\n",
    "df.head()"
   ]
  },
  {
   "cell_type": "markdown",
   "id": "984151cb",
   "metadata": {},
   "source": [
    "## Data Exploration, Cleaning and Preparation"
   ]
  },
  {
   "cell_type": "code",
   "execution_count": 11,
   "id": "f58b3244",
   "metadata": {},
   "outputs": [
    {
     "data": {
      "text/plain": [
       "IsBadBuy                   int64\n",
       "PurchDate                 object\n",
       "Auction                   object\n",
       "VehYear                    int64\n",
       "VehicleAge                 int64\n",
       "Make                      object\n",
       "Model                     object\n",
       "Trim                      object\n",
       "SubModel                  object\n",
       "Color                     object\n",
       "Transmission              object\n",
       "WheelTypeID              float64\n",
       "WheelType                 object\n",
       "VehOdo                     int64\n",
       "Nationality               object\n",
       "Size                      object\n",
       "TopThree AmericanName     object\n",
       "MMR Current AvgPrice     float64\n",
       "PRIMEUNIT                 object\n",
       "AUCGUART                  object\n",
       "BYRNO                      int64\n",
       "VNZIP1                     int64\n",
       "VNST                      object\n",
       "VehBCost                 float64\n",
       "IsOnlineSale               int64\n",
       "WarrantyCost               int64\n",
       "dtype: object"
      ]
     },
     "execution_count": 11,
     "metadata": {},
     "output_type": "execute_result"
    }
   ],
   "source": [
    "df.dtypes\n"
   ]
  },
  {
   "cell_type": "markdown",
   "id": "1b213a4f",
   "metadata": {},
   "source": [
    "### Observation: The columns of our data frame have spaces between them, let's fix that so it's easier to manipulate them. \n"
   ]
  },
  {
   "cell_type": "code",
   "execution_count": 12,
   "id": "b3f3abd9",
   "metadata": {},
   "outputs": [],
   "source": [
    "\n",
    "df.columns = df.columns.str.replace(' ', '_')"
   ]
  },
  {
   "cell_type": "code",
   "execution_count": 13,
   "id": "51a775f5",
   "metadata": {},
   "outputs": [
    {
     "data": {
      "text/plain": [
       "Index(['IsBadBuy', 'PurchDate', 'Auction', 'VehYear', 'VehicleAge', 'Make',\n",
       "       'Model', 'Trim', 'SubModel', 'Color', 'Transmission', 'WheelTypeID',\n",
       "       'WheelType', 'VehOdo', 'Nationality', 'Size', 'TopThree_AmericanName',\n",
       "       'MMR_Current_AvgPrice', 'PRIMEUNIT', 'AUCGUART', 'BYRNO', 'VNZIP1',\n",
       "       'VNST', 'VehBCost', 'IsOnlineSale', 'WarrantyCost'],\n",
       "      dtype='object')"
      ]
     },
     "execution_count": 13,
     "metadata": {},
     "output_type": "execute_result"
    }
   ],
   "source": [
    "df.columns"
   ]
  },
  {
   "cell_type": "code",
   "execution_count": 14,
   "id": "270e4060",
   "metadata": {},
   "outputs": [
    {
     "data": {
      "text/plain": [
       "IsBadBuy                    0\n",
       "PurchDate                   0\n",
       "Auction                     0\n",
       "VehYear                     0\n",
       "VehicleAge                  0\n",
       "Make                        0\n",
       "Model                       0\n",
       "Trim                      243\n",
       "SubModel                    1\n",
       "Color                       1\n",
       "Transmission                1\n",
       "WheelTypeID               325\n",
       "WheelType                 325\n",
       "VehOdo                      0\n",
       "Nationality                 0\n",
       "Size                        0\n",
       "TopThree_AmericanName       0\n",
       "MMR_Current_AvgPrice       21\n",
       "PRIMEUNIT                7113\n",
       "AUCGUART                 7113\n",
       "BYRNO                       0\n",
       "VNZIP1                      0\n",
       "VNST                        0\n",
       "VehBCost                    0\n",
       "IsOnlineSale                0\n",
       "WarrantyCost                0\n",
       "dtype: int64"
      ]
     },
     "execution_count": 14,
     "metadata": {},
     "output_type": "execute_result"
    }
   ],
   "source": [
    "#checking how many null values we have in our data set\n",
    "df.isnull().sum()"
   ]
  },
  {
   "cell_type": "markdown",
   "id": "1fd4c55f",
   "metadata": {},
   "source": [
    "## Step 2 - Remove variables with high null counts\n"
   ]
  },
  {
   "cell_type": "code",
   "execution_count": 15,
   "id": "8585a511",
   "metadata": {},
   "outputs": [],
   "source": [
    "df.drop(['Trim','WheelTypeID','WheelType', \n",
    "         'PRIMEUNIT','AUCGUART'], axis=1, inplace=True)\n"
   ]
  },
  {
   "cell_type": "code",
   "execution_count": 16,
   "id": "ebe707be",
   "metadata": {},
   "outputs": [
    {
     "data": {
      "text/plain": [
       "IsBadBuy                  0\n",
       "PurchDate                 0\n",
       "Auction                   0\n",
       "VehYear                   0\n",
       "VehicleAge                0\n",
       "Make                      0\n",
       "Model                     0\n",
       "SubModel                  1\n",
       "Color                     1\n",
       "Transmission              1\n",
       "VehOdo                    0\n",
       "Nationality               0\n",
       "Size                      0\n",
       "TopThree_AmericanName     0\n",
       "MMR_Current_AvgPrice     21\n",
       "BYRNO                     0\n",
       "VNZIP1                    0\n",
       "VNST                      0\n",
       "VehBCost                  0\n",
       "IsOnlineSale              0\n",
       "WarrantyCost              0\n",
       "dtype: int64"
      ]
     },
     "execution_count": 16,
     "metadata": {},
     "output_type": "execute_result"
    }
   ],
   "source": [
    "df.isnull().sum()"
   ]
  },
  {
   "cell_type": "markdown",
   "id": "74c583ea",
   "metadata": {},
   "source": [
    "## Let's clean up all of our NAs in the data set with drop.na()"
   ]
  },
  {
   "cell_type": "code",
   "execution_count": 17,
   "id": "2a70119e",
   "metadata": {},
   "outputs": [],
   "source": [
    "df = df.dropna()"
   ]
  },
  {
   "cell_type": "code",
   "execution_count": 18,
   "id": "8018ae4a",
   "metadata": {},
   "outputs": [
    {
     "data": {
      "text/plain": [
       "IsBadBuy                 0\n",
       "PurchDate                0\n",
       "Auction                  0\n",
       "VehYear                  0\n",
       "VehicleAge               0\n",
       "Make                     0\n",
       "Model                    0\n",
       "SubModel                 0\n",
       "Color                    0\n",
       "Transmission             0\n",
       "VehOdo                   0\n",
       "Nationality              0\n",
       "Size                     0\n",
       "TopThree_AmericanName    0\n",
       "MMR_Current_AvgPrice     0\n",
       "BYRNO                    0\n",
       "VNZIP1                   0\n",
       "VNST                     0\n",
       "VehBCost                 0\n",
       "IsOnlineSale             0\n",
       "WarrantyCost             0\n",
       "dtype: int64"
      ]
     },
     "execution_count": 18,
     "metadata": {},
     "output_type": "execute_result"
    }
   ],
   "source": [
    "df.isnull().sum()"
   ]
  },
  {
   "cell_type": "code",
   "execution_count": 19,
   "id": "fb3e970c",
   "metadata": {},
   "outputs": [
    {
     "data": {
      "text/plain": [
       "MINI             1\n",
       "VOLVO            2\n",
       "ACURA            3\n",
       "INFINITI         3\n",
       "LEXUS            3\n",
       "CADILLAC         3\n",
       "SUBARU           7\n",
       "ISUZU            7\n",
       "LINCOLN         11\n",
       "SCION           13\n",
       "OLDSMOBILE      21\n",
       "VOLKSWAGEN      27\n",
       "HONDA           53\n",
       "GMC             68\n",
       "BUICK           71\n",
       "MERCURY         87\n",
       "TOYOTA          96\n",
       "MAZDA          103\n",
       "MITSUBISHI     106\n",
       "SUZUKI         133\n",
       "HYUNDAI        171\n",
       "JEEP           181\n",
       "SATURN         208\n",
       "NISSAN         234\n",
       "KIA            264\n",
       "PONTIAC        449\n",
       "CHRYSLER       892\n",
       "FORD          1131\n",
       "DODGE         1341\n",
       "CHEVROLET     1766\n",
       "Name: Make, dtype: int64"
      ]
     },
     "execution_count": 19,
     "metadata": {},
     "output_type": "execute_result"
    }
   ],
   "source": [
    "#Let's check how many cars from each brand exist in this dataset\n",
    "make = df['Make'].value_counts().sort_values()\n",
    "make"
   ]
  },
  {
   "cell_type": "code",
   "execution_count": 20,
   "id": "3fdfc67d",
   "metadata": {},
   "outputs": [],
   "source": [
    "#pip install matplotlib"
   ]
  },
  {
   "cell_type": "code",
   "execution_count": 21,
   "id": "682d6a8b",
   "metadata": {},
   "outputs": [],
   "source": [
    "#pip install seaborn"
   ]
  },
  {
   "cell_type": "code",
   "execution_count": 22,
   "id": "7099317c",
   "metadata": {},
   "outputs": [],
   "source": [
    "import matplotlib.pyplot as plt"
   ]
  },
  {
   "cell_type": "markdown",
   "id": "3dc420ce",
   "metadata": {},
   "source": [
    "## Graph Options\n",
    "- plt.plot\n",
    "- plt.scatter\n",
    "- plt.hist\n",
    "- plt.bar\n",
    "- plt.barh"
   ]
  },
  {
   "cell_type": "code",
   "execution_count": 32,
   "id": "71d47e7e",
   "metadata": {},
   "outputs": [
    {
     "data": {
      "text/plain": [
       "Text(0, 0.5, 'Average Cost')"
      ]
     },
     "execution_count": 32,
     "metadata": {},
     "output_type": "execute_result"
    },
    {
     "data": {
      "image/png": "[encoded data removed]",
      "text/plain": [
       "<Figure size 640x480 with 1 Axes>"
      ]
     },
     "metadata": {},
     "output_type": "display_data"
    }
   ],
   "source": [
    "#Question: What is the most expensive car brand on average?\n",
    "\n",
    "#plt.bar(\"Insert your x here \", \"Insert your y variable here\")\n",
    "plt.bar(df.Make, df.MMR_Current_AvgPrice)\n",
    "#Creating a main title\n",
    "plt.title('Car Brand for each Average Price')\n",
    "#Creating the x label\n",
    "plt.xlabel(\"Car Brand\")\n",
    "#Creating the y label\n",
    "plt.ylabel(\"Average Cost\")"
   ]
  },
  {
   "cell_type": "code",
   "execution_count": 24,
   "id": "a0a3b79e",
   "metadata": {},
   "outputs": [
    {
     "data": {
      "text/plain": [
       "Text(0, 0.5, 'Brand Name')"
      ]
     },
     "execution_count": 24,
     "metadata": {},
     "output_type": "execute_result"
    },
    {
     "data": {
      "image/png": "[encoded data removed]",
      "text/plain": [
       "<Figure size 640x480 with 1 Axes>"
      ]
     },
     "metadata": {},
     "output_type": "display_data"
    }
   ],
   "source": [
    "#NOTICE\n",
    "#plt.barh(\"Insert your y here \", \"Insert your x variable here\")\n",
    "#add the barh\n",
    "plt.barh(df.Make, df.MMR_Current_AvgPrice)\n",
    "#Creating main title\n",
    "plt.title('Average Cost Vehicle Cost by Brand')\n",
    "plt.xlabel(\"Average Cost\")\n",
    "plt.ylabel(\"Brand Name\")"
   ]
  },
  {
   "cell_type": "code",
   "execution_count": 31,
   "id": "a8efd65d",
   "metadata": {},
   "outputs": [
    {
     "data": {
      "text/plain": [
       "<Axes: >"
      ]
     },
     "execution_count": 31,
     "metadata": {},
     "output_type": "execute_result"
    },
    {
     "data": {
      "image/png": "[encoded data removed]",
      "text/plain": [
       "<Figure size 640x480 with 1 Axes>"
      ]
     },
     "metadata": {},
     "output_type": "display_data"
    }
   ],
   "source": [
    "#Another way that we can use the plot function:\n",
    "make = df['Make'].value_counts()\n",
    "make.plot(kind='barh')"
   ]
  },
  {
   "cell_type": "markdown",
   "id": "906fe795",
   "metadata": {},
   "source": [
    "Hands on Experience: \n",
    "1. Drop the columns \"Auction\" and \"Nationality\"\n",
    "2. How many cars were registered each year? (please sort it using \"VehYear\")\n",
    "3. Plot the variable color to see what is the most popular color on the roads."
   ]
  },
  {
   "cell_type": "code",
   "execution_count": 25,
   "id": "5f72dc63",
   "metadata": {},
   "outputs": [],
   "source": [
    "df.drop(['Auction', 'Nationality'], axis=1, inplace=True)"
   ]
  },
  {
   "cell_type": "code",
   "execution_count": 26,
   "id": "6fccf91f",
   "metadata": {},
   "outputs": [
    {
     "data": {
      "text/plain": [
       "IsBadBuy                   int64\n",
       "PurchDate                 object\n",
       "VehYear                    int64\n",
       "VehicleAge                 int64\n",
       "Make                      object\n",
       "Model                     object\n",
       "SubModel                  object\n",
       "Color                     object\n",
       "Transmission              object\n",
       "VehOdo                     int64\n",
       "Size                      object\n",
       "TopThree_AmericanName     object\n",
       "MMR_Current_AvgPrice     float64\n",
       "BYRNO                      int64\n",
       "VNZIP1                     int64\n",
       "VNST                      object\n",
       "VehBCost                 float64\n",
       "IsOnlineSale               int64\n",
       "WarrantyCost               int64\n",
       "dtype: object"
      ]
     },
     "execution_count": 26,
     "metadata": {},
     "output_type": "execute_result"
    }
   ],
   "source": [
    "df.dtypes"
   ]
  },
  {
   "cell_type": "code",
   "execution_count": 27,
   "id": "f5bf606b",
   "metadata": {},
   "outputs": [
    {
     "data": {
      "text/plain": [
       "2001     158\n",
       "2002     367\n",
       "2003     603\n",
       "2004     972\n",
       "2005    1598\n",
       "2006    1788\n",
       "2007    1198\n",
       "2008     687\n",
       "2009      84\n",
       "Name: VehYear, dtype: int64"
      ]
     },
     "execution_count": 27,
     "metadata": {},
     "output_type": "execute_result"
    }
   ],
   "source": [
    "#Question2:\n",
    "vehyear = df['VehYear'].value_counts().sort_index()\n",
    "vehyear"
   ]
  },
  {
   "cell_type": "code",
   "execution_count": 28,
   "id": "c29f141c",
   "metadata": {},
   "outputs": [
    {
     "data": {
      "text/plain": [
       "SILVER       1515\n",
       "WHITE        1257\n",
       "BLUE         1040\n",
       "BLACK         801\n",
       "GREY          798\n",
       "RED           624\n",
       "GOLD          511\n",
       "GREEN         346\n",
       "MAROON        215\n",
       "BEIGE         167\n",
       "ORANGE         43\n",
       "BROWN          41\n",
       "PURPLE         40\n",
       "YELLOW         25\n",
       "OTHER          23\n",
       "NOT AVAIL       9\n",
       "Name: Color, dtype: int64"
      ]
     },
     "execution_count": 28,
     "metadata": {},
     "output_type": "execute_result"
    }
   ],
   "source": [
    "#Question 3:\n",
    "\n",
    "color = df['Color'].value_counts()\n",
    "color"
   ]
  },
  {
   "cell_type": "code",
   "execution_count": 30,
   "id": "8e8ce47f",
   "metadata": {},
   "outputs": [
    {
     "data": {
      "text/plain": [
       "<Axes: >"
      ]
     },
     "execution_count": 30,
     "metadata": {},
     "output_type": "execute_result"
    },
    {
     "data": {
      "image/png": "[encoded data removed]",
      "text/plain": [
       "<Figure size 640x480 with 1 Axes>"
      ]
     },
     "metadata": {},
     "output_type": "display_data"
    }
   ],
   "source": [
    "#Question 3:\n",
    "\n",
    "color = df['Color'].value_counts()\n",
    "color.plot(kind='barh')\n",
    "\n",
    "#Series.plot(kind='barh')"
   ]
  },
  {
   "cell_type": "code",
   "execution_count": null,
   "id": "669775d6",
   "metadata": {},
   "outputs": [],
   "source": []
  },
  {
   "cell_type": "code",
   "execution_count": null,
   "id": "b00aab00",
   "metadata": {},
   "outputs": [],
   "source": []
  }
 ],
 "metadata": {
  "kernelspec": {
   "display_name": "Python 3 (ipykernel)",
   "language": "python",
   "name": "python3"
  },
  "language_info": {
   "codemirror_mode": {
    "name": "ipython",
    "version": 3
   },
   "file_extension": ".py",
   "mimetype": "text/x-python",
   "name": "python",
   "nbconvert_exporter": "python",
   "pygments_lexer": "ipython3",
   "version": "3.11.4"
  }
 },
 "nbformat": 4,
 "nbformat_minor": 5
}
